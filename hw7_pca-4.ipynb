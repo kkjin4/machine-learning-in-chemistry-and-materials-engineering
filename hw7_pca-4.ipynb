{
 "cells": [
  {
   "cell_type": "markdown",
   "metadata": {},
   "source": [
    "# Homework 7"
   ]
  },
  {
   "cell_type": "markdown",
   "metadata": {},
   "source": [
    "In this notebook...\n",
    "- Use PCA to determine principal components of genotypic data\n",
    "- Perform PCA using 2 covariates, and compare this to PCA on a full dataset"
   ]
  },
  {
   "cell_type": "markdown",
   "metadata": {},
   "source": [
    "## Problem Statement\n",
    "\n",
    "$\\textbf{Note:}$ the covariates (independent variables) in this dataset are genes and are the rows of the `edata.csv` file. The dependent variable is the phenotype and is the `cancer` column of the `pdata.csv` file. The instances of the dataset are cells and are both the columns of `edata.csv` and the rows of `pdata.csv`.\n",
    "\n",
    "1. How many genes are there in the dataset? This is equal to the number of rows in the `edata.csv` file.\n",
    "\n",
    "\n",
    "2. Run PCA on the genotype data. Make sure to de-mean each covariate. You can use the same code provided in the discussion. What is the ratio between the variance explained by the first component and the variance explained by the second component? What is the ratio between that of the first and tenth components?\n",
    "\n",
    "\n",
    "3. Create an array of the weight of each covariate for the $\\textit{first}$ principal component (the first column of $\\textbf{v}$). This is the principal component with the highest explained variance. $\\textbf{Hint:}$ `.components_` gives the weight of each covariate for each component in order of explained variance (highest explained variance is first). Report the length of your array -- it should be the same as your answer to part 1.\n",
    "\n",
    "\n",
    "4. Using your array from part 3, find and clearly report the indices (in your array from part 3) of the two covariates which contribute the most to the first component. This will be the two covariates with the highest absolute values in your part 3 array. You can use `np.argsort()` to find these, but you do not have to.\n",
    "\n",
    "\n",
    "5. Plot the values of your two genes found in part 4 for every data point. You should be plotting two rows of `edata.csv`. The index of a gene in your part 3 array will be the same as its index in `edata.csv`. Color each point by its phenotype. You can use the same code provided in the discussion notebook. You are welcome to plot the raw data or the demeaned data.\n",
    "\n",
    "\n",
    "6. Now run PCA again but only use data from the two genes you found in part 4 (two covariates). Make sure the data is de-meaned for this. Transform the data into component space and plot the data in the space of the first (only) two components. The code for transforming and plotting data in component space can be found in the discussion notebook.\n",
    "\n",
    "Recall in the discussion that running PCA on the full dataset made it easier to classify the data even from just the first 2 principal componets. (Easier to classify means the 3 colors are in more separate clumps). You should see from this problem that just using the 2 genes which explain the most variance in the dataset does not make the data easier to classify. This shows the power of PCA as a dimensionality reduction tool -- using many variables to determine the best axes to classify data, even though PCA is an unsupervised learning method."
   ]
  },
  {
   "cell_type": "markdown",
   "metadata": {},
   "source": [
    "Import modules"
   ]
  },
  {
   "cell_type": "code",
   "execution_count": 4,
   "metadata": {},
   "outputs": [],
   "source": [
    "import numpy as np\n",
    "import sys\n",
    "import matplotlib.pyplot as plt\n",
    "import json\n",
    "import pandas as pd\n",
    "from sklearn import linear_model\n",
    "from sklearn.metrics import mean_squared_error,r2_score\n",
    "from sklearn.decomposition import PCA"
   ]
  },
  {
   "cell_type": "markdown",
   "metadata": {},
   "source": [
    "Load data"
   ]
  },
  {
   "cell_type": "code",
   "execution_count": 5,
   "metadata": {},
   "outputs": [],
   "source": [
    "# import phenotype data\n",
    "pdata = pd.read_csv(\"pdata.csv\")\n",
    "# import expression data\n",
    "edata = pd.read_csv(\"edata.csv\")"
   ]
  },
  {
   "cell_type": "markdown",
   "metadata": {},
   "source": [
    "1. How many genes are there in the dataset? This is equal to the number of rows in the `edata.csv` file."
   ]
  },
  {
   "cell_type": "code",
   "execution_count": 6,
   "metadata": {},
   "outputs": [
    {
     "name": "stdout",
     "output_type": "stream",
     "text": [
      "The number of genes is: 22283\n"
     ]
    }
   ],
   "source": [
    "row = edata.shape[0]\n",
    "print('The number of genes is: ' + str(row))"
   ]
  },
  {
   "cell_type": "markdown",
   "metadata": {},
   "source": [
    "2. Run PCA on the genotype data. Make sure to de-mean each covariate. You can use the same code provided in the discussion. What is the ratio between the variance explained by the first component and the variance explained by the second component? What is the ratio between that of the first and tenth components?"
   ]
  },
  {
   "cell_type": "code",
   "execution_count": 7,
   "metadata": {},
   "outputs": [
    {
     "name": "stdout",
     "output_type": "stream",
     "text": [
      "The ratio between the variance explained by 1st component and 2nd component = 2.3513122340761847\n",
      "The ratio between the variance explained by 1st component and 10th component = 18.976568022063017\n"
     ]
    }
   ],
   "source": [
    "# extract genotype data to perform PCA on\n",
    "pcadata = np.swapaxes(np.array(edata.iloc[:,1:]),0,1)\n",
    "pcadata = pcadata-np.mean(pcadata,axis=0) #demean data\n",
    "\n",
    "pca = PCA()\n",
    "pca.fit(pcadata)\n",
    "\n",
    "var_ratio = pca.explained_variance_ratio_\n",
    "\n",
    "print('The ratio between the variance explained by 1st component and 2nd component = ' + str(var_ratio[0]/var_ratio[1]))\n",
    "print('The ratio between the variance explained by 1st component and 10th component = ' + str(var_ratio[0]/var_ratio[9]))"
   ]
  },
  {
   "cell_type": "markdown",
   "metadata": {},
   "source": [
    "3. Create an array of the weight of each covariate for the $\\textit{first}$ principal component (the first column of $\\textbf{v}$). This is the principal component with the highest explained variance. $\\textbf{Hint:}$ `.components_` gives the weight of each covariate for each component in order of explained variance (highest explained variance is first). Report the length of your array -- it should be the same as your answer to part 1."
   ]
  },
  {
   "cell_type": "code",
   "execution_count": 8,
   "metadata": {},
   "outputs": [
    {
     "name": "stdout",
     "output_type": "stream",
     "text": [
      "[-0.0080371  -0.00317106  0.00376713 ...  0.0006589   0.00229338\n",
      "  0.001236  ]\n",
      "\n",
      "\n",
      "The length of the weight of each covariate for the  first principal component = 22283\n"
     ]
    }
   ],
   "source": [
    "length = pca.components_[0]\n",
    "\n",
    "print(length)\n",
    "print('\\n')\n",
    "print('The length of the weight of each covariate for the  first principal component = ' + str(len(length)))\n"
   ]
  },
  {
   "cell_type": "markdown",
   "metadata": {},
   "source": [
    "4. Using your array from part 3, find and clearly report the indices (in your array from part 3) of the two covariates which contribute the most to the first component. This will be the two covariates with the highest absolute values in your part 3 array. You can use `np.argsort()` to find these, but you do not have to."
   ]
  },
  {
   "cell_type": "code",
   "execution_count": 10,
   "metadata": {},
   "outputs": [
    {
     "name": "stdout",
     "output_type": "stream",
     "text": [
      "The indices of the covariate contributes most to the first component = 8509\n",
      "The indices of the covariate contributes second to the first component = 21687\n"
     ]
    }
   ],
   "source": [
    "length_abs = np.abs(length)\n",
    "sorted_nums = np.argsort(length_abs)\n",
    "idx_1 = sorted_nums[len(sorted_nums)-1]\n",
    "idx_2 = sorted_nums[len(sorted_nums)-2]\n",
    "print('The indices of the covariate contributes most to the first component = ' + str(idx_1))\n",
    "print('The indices of the covariate contributes second to the first component = ' + str(idx_2))"
   ]
  },
  {
   "cell_type": "markdown",
   "metadata": {},
   "source": [
    "5. Plot the values of your two genes found in part 4 for every data point. You should be plotting two rows of `edata.csv`. The index of a gene in your part 3 array will be the same as its index in `edata.csv`. Color each point by its phenotype. You can use the same code provided in the discussion notebook. You are welcome to plot the raw data or the demeaned data."
   ]
  },
  {
   "cell_type": "code",
   "execution_count": 14,
   "metadata": {},
   "outputs": [
    {
     "name": "stdout",
     "output_type": "stream",
     "text": [
      "Phenotype data: Cancer labels\n",
      "     Unnamed: 0  sample outcome  batch  cancer\n",
      "0  GSM71019.CEL       1  Normal      3  Normal\n",
      "1  GSM71020.CEL       2  Normal      2  Normal\n",
      "2  GSM71021.CEL       3  Normal      2  Normal\n",
      "3  GSM71022.CEL       4  Normal      3  Normal\n",
      "4  GSM71023.CEL       5  Normal      3  Normal\n",
      "\n",
      "\n",
      "Expression data for over 20000 genes for each of 57 cells\n",
      "  Unnamed: 0  GSM71019.CEL  GSM71020.CEL  GSM71021.CEL  GSM71022.CEL\n",
      "0  1007_s_at     10.115170      8.628044      8.779235      9.248569\n",
      "1    1053_at      5.345168      5.063598      5.113116      5.179410\n",
      "2     117_at      6.348024      6.663625      6.465892      6.116422\n",
      "3     121_at      8.901739      9.439977      9.540738      9.254368\n",
      "4  1255_g_at      3.967672      4.466027      4.144885      4.189338\n"
     ]
    }
   ],
   "source": [
    "# import phenotype data\n",
    "print('Phenotype data: Cancer labels')\n",
    "print(pdata.head())\n",
    "print('\\n')\n",
    "\n",
    "# import expression data\n",
    "print('Expression data for over 20000 genes for each of 57 cells')\n",
    "print(edata.iloc[:5,:5])"
   ]
  },
  {
   "cell_type": "code",
   "execution_count": 15,
   "metadata": {},
   "outputs": [
    {
     "data": {
      "image/png": "[encoded data removed]",
      "text/plain": [
       "<Figure size 720x432 with 1 Axes>"
      ]
     },
     "metadata": {
      "needs_background": "light"
     },
     "output_type": "display_data"
    }
   ],
   "source": [
    "label = np.array(pdata.loc[:,'cancer']) #set phenotype as labels\n",
    "cdict = {'Normal':'b','Biopsy':'r','Cancer':'g'} #plot data with color corresponding to phenotype\n",
    "# plot gene expression data of first 2 genes\n",
    "fig,ax=plt.subplots(figsize=(10,6))\n",
    "for l in np.unique(label):\n",
    "    ix = np.where(label==l) #plot each diagnosis as different color\n",
    "    for i in ix:\n",
    "        ax.scatter(edata.iloc[idx_1,i+1],edata.iloc[idx_2,i+1],60,c=cdict[l],label=l)\n",
    "ax.legend()\n",
    "ax.set_xlabel('gene %d' %idx_1)\n",
    "ax.set_ylabel('gene %d' %idx_2)\n",
    "plt.show()"
   ]
  },
  {
   "cell_type": "markdown",
   "metadata": {},
   "source": [
    "6. Now run PCA again but only use data from the two genes you found in part 4 (two covariates). Make sure the data is de-meaned for this. Transform the data into component space and plot the data in the space of the first (only) two components. The code for transforming and plotting data in component space can be found in the discussion notebook.\n",
    "\n",
    "Recall in the discussion that running PCA on the full dataset made it easier to classify the data even from just the first 2 principal componets. (Easier to classify means the 3 colors are in more separate clumps). You should see from this problem that just using the 2 genes which explain the most variance in the dataset does not make the data easier to classify. This shows the power of PCA as a dimensionality reduction tool -- using many variables to determine the best axes to classify data -- even though PCA is an unsupervised learning method."
   ]
  },
  {
   "cell_type": "code",
   "execution_count": 16,
   "metadata": {},
   "outputs": [],
   "source": [
    "# extract genotype data to perform PCA on\n",
    "pcadata = np.swapaxes(np.array(edata.iloc[[idx_1,idx_2],1:]),0,1)\n",
    "pcadata = pcadata-np.mean(pcadata,axis=0) #demean data\n",
    "# peform PCA\n",
    "pca = PCA()\n",
    "pca.fit(pcadata)\n",
    "# transform data into component space\n",
    "data_c = pca.transform(pcadata)"
   ]
  },
  {
   "cell_type": "code",
   "execution_count": 17,
   "metadata": {},
   "outputs": [
    {
     "data": {
      "image/png": "[encoded data removed]",
      "text/plain": [
       "<Figure size 720x432 with 1 Axes>"
      ]
     },
     "metadata": {
      "needs_background": "light"
     },
     "output_type": "display_data"
    }
   ],
   "source": [
    "\n",
    "# plot data in component space\n",
    "fig,ax=plt.subplots(figsize=(10,6))\n",
    "for l in np.unique(label):\n",
    "    ix = np.where(label==l)\n",
    "    for i in ix:\n",
    "        ax.scatter(data_c[ix,0],data_c[ix,1],60,c=cdict[l],label=l)\n",
    "ax.legend(fontsize=14)\n",
    "ax.set_xlabel('first principal component')\n",
    "ax.set_ylabel('second principal component')\n",
    "plt.show()"
   ]
  },
  {
   "cell_type": "code",
   "execution_count": null,
   "metadata": {},
   "outputs": [],
   "source": []
  }
 ],
 "metadata": {
  "kernelspec": {
   "display_name": "Python 3 (ipykernel)",
   "language": "python",
   "name": "python3"
  },
  "language_info": {
   "codemirror_mode": {
    "name": "ipython",
    "version": 3
   },
   "file_extension": ".py",
   "mimetype": "text/x-python",
   "name": "python",
   "nbconvert_exporter": "python",
   "pygments_lexer": "ipython3",
   "version": "3.9.7"
  }
 },
 "nbformat": 4,
 "nbformat_minor": 4
}
