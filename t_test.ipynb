{
 "cells": [
  {
   "cell_type": "markdown",
   "metadata": {},
   "source": [
    "# Comparing Nuclei Size Distributions\n",
    "\n",
    "<br/>\n",
    "\n",
    "### Background\n",
    "\n",
    "During early embryonic development in *Drosophila*, nuclei rapidly divide under a common plasma membrane without affecting the overall size of the embryo.\n",
    "As a result, there is a characteristic change in size distribution of the nuclei after each stage of division.\n",
    "In this notebook, we will use Student's t-test to compare the mean nuclear areas (in pixel counts) from micrographs of *Drosophila* embryos before and after one cycle of division.\n",
    "We will assess how sample size and variability affect the p-value of our hypothesis test.\n",
    "\n",
    "\n",
    "\n",
    "### Reference\n",
    "\n",
    "[Dutta, S.; Djabrayan, N. J.-V.; Torquato, S.; Shvartsman, S. Y.; Krajnc, M. Self-Similar Dynamics of Nuclear Packing in the Early Drosophila Embryo. Biophysical Journal 2019, 117 (4), 743–750.](https://doi.org/10.1016/j.bpj.2019.07.009)\n"
   ]
  },
  {
   "cell_type": "markdown",
   "metadata": {},
   "source": [
    "### Import Modules"
   ]
  },
  {
   "cell_type": "code",
   "execution_count": 1,
   "metadata": {},
   "outputs": [],
   "source": [
    "import numpy as np\n",
    "import pandas as pd\n",
    "import matplotlib.pyplot as plt\n",
    "from scipy.stats import normaltest, levene, ttest_ind"
   ]
  },
  {
   "cell_type": "markdown",
   "metadata": {},
   "source": [
    "### Load Data\n",
    "\n",
    "We use the [Pandas `read_csv` method](https://pandas.pydata.org/docs/reference/api/pandas.read_csv.html) to load the data into a data frame (i.e., a table).\n",
    "\n",
    "Then we are using the [`to_numpy` method](https://pandas.pydata.org/pandas-docs/stable/reference/api/pandas.DataFrame.to_numpy.html) of a Pandas data frame to convert the data frame into an array of numerical values.\n",
    "\n",
    "Finally, we flatten the array of values using the [`flatten` method](https://numpy.org/doc/stable/reference/generated/numpy.ndarray.flatten.html) of a numpy array.\n"
   ]
  },
  {
   "cell_type": "code",
   "execution_count": 2,
   "metadata": {},
   "outputs": [],
   "source": [
    "# Load data into table\n",
    "areas_before_df = pd.read_csv(\"data/nuclear_areas_before.csv\", header=None, index_col=None)\n",
    "areas_after_df = pd.read_csv(\"data/nuclear_areas_after.csv\", header=None, index_col=None)\n",
    "\n",
    "# Convert table to array\n",
    "areas_before = areas_before_df.to_numpy()\n",
    "areas_after = areas_after_df.to_numpy()\n",
    "\n",
    "# Flatten array\n",
    "areas_before = areas_before.flatten()\n",
    "areas_after = areas_after.flatten()"
   ]
  },
  {
   "cell_type": "code",
   "execution_count": 3,
   "metadata": {},
   "outputs": [
    {
     "name": "stdout",
     "output_type": "stream",
     "text": [
      "[759 336 494 ... 374 383 213]\n",
      "[175 264 298 ... 228 121 133]\n"
     ]
    }
   ],
   "source": [
    "print(areas_before)\n",
    "print(areas_after)"
   ]
  },
  {
   "cell_type": "markdown",
   "metadata": {},
   "source": [
    "### Visualize data\n",
    "\n",
    "We visualize the distribution of nuclear areas before and after a round of division using histograms"
   ]
  },
  {
   "cell_type": "code",
   "execution_count": 4,
   "metadata": {},
   "outputs": [
    {
     "data": {
      "image/png": "[encoded data removed]",
      "text/plain": [
       "<Figure size 432x288 with 1 Axes>"
      ]
     },
     "metadata": {
      "needs_background": "light"
     },
     "output_type": "display_data"
    }
   ],
   "source": [
    "plt.figure(figsize=(6, 4))\n",
    "plt.hist(areas_before, label=\"before\", color=\"red\", alpha = 0.5)\n",
    "plt.hist(areas_after, label =\"after\", color=\"blue\", alpha = 0.5)\n",
    "plt.xlabel(\"Nucleus Area (pixel counts)\")\n",
    "plt.ylabel(\"Frequency\")\n",
    "plt.legend()\n",
    "plt.show()"
   ]
  },
  {
   "cell_type": "markdown",
   "metadata": {},
   "source": [
    "### Discussion Question\n",
    "\n",
    "Why do you think there is a leftward skew in the distribution of nuclear areas? Do you think the skew real or an artifact of the experimental method?\n",
    "\n",
    "##### Hint\n",
    "\n",
    "The scientists measure areas from pixel counts of nuclei imaged using microscopes. To automate this task, they pick an arbitrary rectangular space in the micrograph, segment the nuclei in that space, and count pixels corresponding to each nucleus."
   ]
  },
  {
   "cell_type": "markdown",
   "metadata": {},
   "source": [
    "### Trim the bottom 10% of Areas"
   ]
  },
  {
   "cell_type": "code",
   "execution_count": 5,
   "metadata": {},
   "outputs": [],
   "source": [
    "trim_cutoff_before = np.percentile(areas_before, 10)\n",
    "trim_cutoff_after = np.percentile(areas_after, 10)\n",
    "\n",
    "areas_before_trimmed = areas_before[areas_before > trim_cutoff_before]\n",
    "areas_after_trimmed = areas_after[areas_after > trim_cutoff_after]"
   ]
  },
  {
   "cell_type": "code",
   "execution_count": 6,
   "metadata": {},
   "outputs": [
    {
     "data": {
      "image/png": "[encoded data removed]",
      "text/plain": [
       "<Figure size 432x288 with 1 Axes>"
      ]
     },
     "metadata": {
      "needs_background": "light"
     },
     "output_type": "display_data"
    }
   ],
   "source": [
    "plt.figure(figsize=(6, 4))\n",
    "plt.hist(areas_before_trimmed, label=\"before\", color=\"red\", alpha = 0.5)\n",
    "plt.hist(areas_after_trimmed, label =\"after\", color=\"blue\", alpha = 0.5)\n",
    "plt.xlabel(\"Nucleus Area (pixel counts)\")\n",
    "plt.ylabel(\"Frequency\")\n",
    "plt.legend()\n",
    "plt.show()"
   ]
  },
  {
   "cell_type": "markdown",
   "metadata": {},
   "source": [
    "### Evaluate Assumption of Normality"
   ]
  },
  {
   "cell_type": "code",
   "execution_count": 7,
   "metadata": {},
   "outputs": [
    {
     "name": "stdout",
     "output_type": "stream",
     "text": [
      "0.0\n"
     ]
    }
   ],
   "source": [
    "normality_test_stat_before, normality_p_val_before = normaltest(areas_before_trimmed)\n",
    "print(round(normality_p_val_before, 3))"
   ]
  },
  {
   "cell_type": "code",
   "execution_count": 8,
   "metadata": {},
   "outputs": [
    {
     "name": "stdout",
     "output_type": "stream",
     "text": [
      "0.455\n"
     ]
    }
   ],
   "source": [
    "normality_test_stat_after, normality_p_val_after = normaltest(areas_after_trimmed)\n",
    "print(round(normality_p_val_after, 3))"
   ]
  },
  {
   "cell_type": "markdown",
   "metadata": {},
   "source": [
    "The distribution of nuclear areas before division fails the normality test. There is sufficient evidence to conclude that the distribution of nuclear areas before cell division is not normal. We will proceed with our analysis, recognizing that the faulty assumptions may influence the results."
   ]
  },
  {
   "cell_type": "markdown",
   "metadata": {},
   "source": [
    "### Evaluate Assumption of Equal Variance"
   ]
  },
  {
   "cell_type": "code",
   "execution_count": 9,
   "metadata": {},
   "outputs": [
    {
     "name": "stdout",
     "output_type": "stream",
     "text": [
      "0.003\n"
     ]
    }
   ],
   "source": [
    "eq_var_test_stat, eq_var_p_val = levene(areas_before_trimmed, areas_after_trimmed)\n",
    "print(round(eq_var_p_val, 3))"
   ]
  },
  {
   "cell_type": "markdown",
   "metadata": {},
   "source": [
    "There is sufficient evidence to conclude that the sample distributions do not come from populations with equal variance. We will proceed with Welch's t-test."
   ]
  },
  {
   "cell_type": "markdown",
   "metadata": {},
   "source": [
    "### Run t-test"
   ]
  },
  {
   "cell_type": "markdown",
   "metadata": {},
   "source": [
    "**Null Hypothesis:** The mean area of nuclei are the same before and after division.\n",
    "\n",
    "**Alternative Hypothesis:** The mean area of nuclei are NOT the same before and after division."
   ]
  },
  {
   "cell_type": "code",
   "execution_count": 10,
   "metadata": {},
   "outputs": [
    {
     "name": "stdout",
     "output_type": "stream",
     "text": [
      "0.0\n"
     ]
    }
   ],
   "source": [
    "t_stat, p_val = ttest_ind(\n",
    "    areas_before_trimmed,\n",
    "    areas_after_trimmed,\n",
    "    equal_var=False          # This indicates use of Welch's t-test\n",
    ")\n",
    "print(p_val)"
   ]
  },
  {
   "cell_type": "markdown",
   "metadata": {},
   "source": [
    "### Discussion Question\n",
    "\n",
    "What does the p-value suggest?"
   ]
  },
  {
   "cell_type": "markdown",
   "metadata": {},
   "source": [
    "### Effect of Sample Size\n",
    "\n",
    "We repeat the analysis, this time on a random sub-sample of nuclear areas from each group. This analysis will model a scenario where we have limited access to data (for example, when data is expensive to collect)."
   ]
  },
  {
   "cell_type": "code",
   "execution_count": 11,
   "metadata": {},
   "outputs": [],
   "source": [
    "sample_size = 10"
   ]
  },
  {
   "cell_type": "code",
   "execution_count": 12,
   "metadata": {},
   "outputs": [],
   "source": [
    "# Sub-sample data with replacement\n",
    "np.random.seed(177)\n",
    "subsample_before = np.random.choice(areas_before_trimmed, size=sample_size, replace=True)\n",
    "subsample_after = np.random.choice(areas_after_trimmed, size=sample_size, replace=True)"
   ]
  },
  {
   "cell_type": "code",
   "execution_count": 13,
   "metadata": {},
   "outputs": [
    {
     "data": {
      "image/png": "[encoded data removed]",
      "text/plain": [
       "<Figure size 432x288 with 1 Axes>"
      ]
     },
     "metadata": {
      "needs_background": "light"
     },
     "output_type": "display_data"
    }
   ],
   "source": [
    "plt.figure(figsize=(6, 4))\n",
    "plt.hist(subsample_before, label=\"before\", color=\"red\", alpha = 0.5)\n",
    "plt.hist(subsample_after, label =\"after\", color=\"blue\", alpha = 0.5)\n",
    "plt.xlabel(\"Nucleus Area (pixel counts)\")\n",
    "plt.ylabel(\"Frequency\")\n",
    "plt.legend()\n",
    "plt.show()"
   ]
  },
  {
   "cell_type": "code",
   "execution_count": 14,
   "metadata": {},
   "outputs": [
    {
     "name": "stdout",
     "output_type": "stream",
     "text": [
      "Normality test p-val of areas before division: 0.288\n",
      "Normality test p-val of areas after division: 0.824\n"
     ]
    },
    {
     "name": "stderr",
     "output_type": "stream",
     "text": [
      "/Users/ajspakow/opt/anaconda3/lib/python3.7/site-packages/scipy/stats/stats.py:1604: UserWarning: kurtosistest only valid for n>=20 ... continuing anyway, n=10\n",
      "  \"anyway, n=%i\" % int(n))\n"
     ]
    }
   ],
   "source": [
    "# Evaluate normality assumption\n",
    "normality_test_stat_before, normality_p_val_before = normaltest(subsample_before)\n",
    "print(f\"Normality test p-val of areas before division: {round(normality_p_val_before, 3)}\")\n",
    "\n",
    "normality_test_stat_after, normality_p_val_after = normaltest(subsample_after)\n",
    "print(f\"Normality test p-val of areas after division: {round(normality_p_val_after, 3)}\")"
   ]
  },
  {
   "cell_type": "code",
   "execution_count": 15,
   "metadata": {},
   "outputs": [
    {
     "name": "stdout",
     "output_type": "stream",
     "text": [
      "Equal variance test p-val: 0.74\n"
     ]
    }
   ],
   "source": [
    "# Evaluate equal variance assumption\n",
    "eq_var_test_stat, eq_var_p_val = levene(subsample_before, subsample_after)\n",
    "print(f\"Equal variance test p-val: {round(eq_var_p_val, 3)}\")"
   ]
  },
  {
   "cell_type": "code",
   "execution_count": 16,
   "metadata": {},
   "outputs": [
    {
     "name": "stdout",
     "output_type": "stream",
     "text": [
      "1.3835236941008757e-10\n"
     ]
    }
   ],
   "source": [
    "t_stat, p_val = ttest_ind(\n",
    "    subsample_before,\n",
    "    subsample_after,\n",
    "    equal_var=True\n",
    ")\n",
    "print(p_val)"
   ]
  },
  {
   "cell_type": "markdown",
   "metadata": {},
   "source": [
    "### Discussion Questions\n",
    "\n",
    "- How did sample size affect our normality and equal variance tests?\n",
    "\n",
    "- In this case, did our reduced sample size affect the results of our t-test?\n",
    "\n",
    "- Are 10 samples enough to conclude that there is a significant difference in mean nucleus areas before and after division?"
   ]
  },
  {
   "cell_type": "markdown",
   "metadata": {},
   "source": [
    "### Effect of Variability\n",
    "\n",
    "We will repeat our analysis, again on our sub-sample of nuclear areas, but this time adding random noise to the data points. This analysis will model a scenario where our measurement instruments are imprecise."
   ]
  },
  {
   "cell_type": "code",
   "execution_count": 17,
   "metadata": {},
   "outputs": [],
   "source": [
    "magnitude_noise = 1000"
   ]
  },
  {
   "cell_type": "code",
   "execution_count": 18,
   "metadata": {},
   "outputs": [],
   "source": [
    "np.random.seed(166)\n",
    "\n",
    "noisy_subsample_before = np.zeros(len(subsample_before))\n",
    "noisy_subsample_after = np.zeros(len(subsample_after))\n",
    "\n",
    "# Add random noise to each data point\n",
    "for i in range(len(subsample_before)):\n",
    "    noise = (np.random.rand(2) - 0.5) * magnitude_noise\n",
    "    noisy_subsample_before[i] = subsample_before[i] + noise[0]\n",
    "    noisy_subsample_after[i] = subsample_after[i] + noise[1]"
   ]
  },
  {
   "cell_type": "code",
   "execution_count": 19,
   "metadata": {},
   "outputs": [
    {
     "data": {
      "image/png": "[encoded data removed]",
      "text/plain": [
       "<Figure size 432x288 with 1 Axes>"
      ]
     },
     "metadata": {
      "needs_background": "light"
     },
     "output_type": "display_data"
    }
   ],
   "source": [
    "plt.figure(figsize=(6, 4))\n",
    "plt.hist(noisy_subsample_before, label=\"before\", color=\"red\", alpha = 0.5)\n",
    "plt.hist(noisy_subsample_after, label =\"after\", color=\"blue\", alpha = 0.5)\n",
    "plt.xlabel(\"Nucleus Area (pixel counts)\")\n",
    "plt.ylabel(\"Frequency\")\n",
    "plt.legend()\n",
    "plt.show()"
   ]
  },
  {
   "cell_type": "code",
   "execution_count": 20,
   "metadata": {},
   "outputs": [
    {
     "name": "stdout",
     "output_type": "stream",
     "text": [
      "Normality test p-val of areas before division: 0.776\n",
      "Normality test p-val of areas after division: 0.551\n"
     ]
    }
   ],
   "source": [
    "# Evaluate normality assumption\n",
    "normality_test_stat_before, normality_p_val_before = normaltest(noisy_subsample_before)\n",
    "print(f\"Normality test p-val of areas before division: {round(normality_p_val_before, 3)}\")\n",
    "\n",
    "normality_test_stat_after, normality_p_val_after = normaltest(noisy_subsample_after)\n",
    "print(f\"Normality test p-val of areas after division: {round(normality_p_val_after, 3)}\")"
   ]
  },
  {
   "cell_type": "code",
   "execution_count": 21,
   "metadata": {},
   "outputs": [
    {
     "name": "stdout",
     "output_type": "stream",
     "text": [
      "Equal variance test p-val: 0.99\n"
     ]
    }
   ],
   "source": [
    "# Evaluate equal variance assumption\n",
    "eq_var_test_stat, eq_var_p_val = levene(noisy_subsample_before, noisy_subsample_after)\n",
    "print(f\"Equal variance test p-val: {round(eq_var_p_val, 3)}\")"
   ]
  },
  {
   "cell_type": "code",
   "execution_count": 22,
   "metadata": {},
   "outputs": [
    {
     "name": "stdout",
     "output_type": "stream",
     "text": [
      "0.08285804004505043\n"
     ]
    }
   ],
   "source": [
    "t_stat, p_val = ttest_ind(\n",
    "    noisy_subsample_before,\n",
    "    noisy_subsample_after,\n",
    "    equal_var=True\n",
    ")\n",
    "print(p_val)"
   ]
  },
  {
   "cell_type": "markdown",
   "metadata": {},
   "source": [
    "### Discussion Question\n",
    "\n",
    "What happens to our confidence if we increase variability in data points due to noise in experimental measurements?"
   ]
  },
  {
   "cell_type": "code",
   "execution_count": null,
   "metadata": {},
   "outputs": [],
   "source": []
  }
 ],
 "metadata": {
  "kernelspec": {
   "display_name": "Python 3",
   "language": "python",
   "name": "python3"
  },
  "language_info": {
   "codemirror_mode": {
    "name": "ipython",
    "version": 3
   },
   "file_extension": ".py",
   "mimetype": "text/x-python",
   "name": "python",
   "nbconvert_exporter": "python",
   "pygments_lexer": "ipython3",
   "version": "3.7.6"
  }
 },
 "nbformat": 4,
 "nbformat_minor": 2
}
