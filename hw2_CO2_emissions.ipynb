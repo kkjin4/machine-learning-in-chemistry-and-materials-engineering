{
 "cells": [
  {
   "cell_type": "markdown",
   "metadata": {},
   "source": [
    "Homework 2\n",
    "==========\n",
    "\n",
    "In this homework...\n",
    "\n",
    "* Parse a data set of annual CO2 emissions by country/region\n",
    "\n",
    "* Demonstrate the central limit theorem\n",
    "\n",
    "* Compare the mean CO2 emissions of countries using ANOVA\n",
    "\n",
    "Data Source: https://github.com/owid/co2-data"
   ]
  },
  {
   "cell_type": "markdown",
   "metadata": {},
   "source": [
    "Problem statement\n",
    "-----------------------"
   ]
  },
  {
   "cell_type": "markdown",
   "metadata": {},
   "source": [
    "1. From `data/global_CO2_emissions.csv`, load columns `country`, `year`, and `co2` into a Pandas data frame using the `pd.read_csv` function. Organize the data frame such that country name serves as the indexing column. Delete any rows with missing values. Print the head of the data frame using the `.head()` method.\n",
    "\n",
    "2. Isolate available records of CO2 emissions from all countries/regions for the years 2000 and 2010. Print the head of the updated data frame.\n",
    "\n",
    "3. Randomly draw (with replacement) 100 samples of 10 countries/regions each, and plot the distribution of the mean 2010 CO2 emissions for these 100 samples.\n",
    "\n",
    "4. Randomly draw (with replacement) 100 samples of 40 countries/regions each, and plot the distribution of the mean 2010 CO2 emissions for these 100 samples. Repeat the process for sample sizes of 60, 80, 100, 200 countries/regions. What do you observe?\n",
    "\n",
    "With the available data, it is trivial to determine whether the population mean CO2 emissions differ between the years 2000 and 2010 – since we have access to CO2 emissions from the full population, we could simply calculate means and compare them. The subsequent problems will represent a scenario where we have access to only a sample of CO2 emissions and want to determine whether mean CO2 emissions differ between the years 2000 and 2010. We will use a t-test to do this. Your answers will vary due to random sampling. We are primarily interested in your approach and your interpretation of the results.\n",
    "\n",
    "5. We will start by generating our samples and testing for normality. Randomly draw (with replacement) samples of 10 countries/regions from each the years 2000 and 2010. Use `scipy.stats.normaltest()` to determine if the filtered emissions appear to be roughly normally distributed in each year. Report the p-value and conclude whether the t-test assumption of normality is satisfied (using a significance level of 0.05).\n",
    "\n",
    "6. Regardless of the results from part 5, we will proceed with our analysis. Use `scipy.stats.levene()` to determine if the samples drawn from 2000 and 2010 have equal variance. Report the p-value and conclude whether the assumption of t-test homogeneity of variances is satisfied (using a significance level of 0.05).\n",
    "\n",
    "7. Use `scipy.stats.ttest_ind()` to test if the mean CO2 emissions differ between the years 2000 and 2010 using your samples from part 5. Report the p-value you obtain and interpret the result of the t-test (using a significance level of 0.05). Explicitly state what the p-value represents. *Hint: Remember to use the correct version of the t-test depending on the sample variances. Look at the [documentation](https://docs.scipy.org/doc/scipy/reference/generated/scipy.stats.ttest_ind.html) of `scipy.stats.ttest_ind()` for appropriate arguments.*\n",
    "\n",
    "8. Repeat parts 5-7, this time using samples of 100 countries/regions from each year. How does the change in sample size affect your (a) evaluation of model assumptions and (b) resulting t-test p-value?"
   ]
  },
  {
   "cell_type": "markdown",
   "metadata": {},
   "source": [
    "Responses\n",
    "---------"
   ]
  },
  {
   "cell_type": "code",
   "execution_count": 2,
   "metadata": {},
   "outputs": [],
   "source": [
    "import numpy as np\n",
    "import pandas as pd\n",
    "import matplotlib.pyplot as plt\n",
    "import scipy.stats as stats"
   ]
  },
  {
   "cell_type": "markdown",
   "metadata": {},
   "source": [
    "1. From `data/global_CO2_emissions.csv`, load columns `country`, `year`, and `co2` into a Pandas data frame using the `pd.read_csv` function. Organize the data frame such that country name serves as the indexing column. Print the head of the data frame using the `.head()` method."
   ]
  },
  {
   "cell_type": "markdown",
   "metadata": {},
   "source": [
    "2. Isolate available records of CO2 emissions from all countries for the years 2000 and 2010. Print the head of the updated data frame."
   ]
  },
  {
   "cell_type": "markdown",
   "metadata": {},
   "source": [
    "3. Randomly draw (with replacement) 100 samples of 10 countries/regions each, and plot the distribution of the mean 2010 CO2 emissions for these 20 samples."
   ]
  },
  {
   "cell_type": "markdown",
   "metadata": {},
   "source": [
    "4. Randomly draw (with replacement) 100 samples of 40 countries/regions each, and plot the distribution of the mean 2010 CO2 emissions for these 20 samples. Repeate the process for sample sizes of 60, 80, 100, 200 countries/regions. What do you observe?"
   ]
  },
  {
   "cell_type": "markdown",
   "metadata": {},
   "source": [
    "With the available data, it is trivial to determine whether the population mean CO2 emissions differ between the years 2000 and 2010 – since we have access to CO2 emissions from the full population, we could simply calculate means and compare them. The subsequent problems will represent a scenario where we have access to only a sample of CO2 emissions and want to determine whether mean CO2 emissions differ between the years 2000 and 2010. We will use a t-test to do this. Your answers will vary due to random sampling. We are primarily interested in your approach and your interpretation of the results. "
   ]
  },
  {
   "cell_type": "markdown",
   "metadata": {},
   "source": [
    "5. We will start by generating our samples and testing for normality. Randomly draw (with replacement) samples of 10 countries/regions from each the years 2000 and 2010. Use `scipy.stats.normaltest()` to determine if the filtered emissions appear to be roughly normally distributed in each year. Report the p-value and conclude whether the t-test assumption of normality is satisfied (using a significance level of 0.05). "
   ]
  },
  {
   "cell_type": "markdown",
   "metadata": {},
   "source": [
    "6. Regardless of the results from part 5, we will proceed with our analysis. Use `scipy.stats.levene()` to determine if the samples drawn from 2000 and 2010 have equal variance. Report the p-value and conclude whether the assumption of t-test homogeneity of variances is satisfied (using a significance level of 0.05)."
   ]
  },
  {
   "cell_type": "markdown",
   "metadata": {},
   "source": [
    "7. Use `scipy.stats.ttest_ind()` to test if the mean CO2 emissions differ between the years 2000 and 2010 using your samples from part 5. Report the p-value you obtain and interpret the result of the t-test (using a significance level of 0.05). Explicitly state what the p-value represents. *Hint: Remember to use the correct version of the t-test depending on the sample variances. Look at the [documentation](https://docs.scipy.org/doc/scipy/reference/generated/scipy.stats.ttest_ind.html) of `scipy.stats.ttest_ind()` for appropriate arguments.*"
   ]
  },
  {
   "cell_type": "markdown",
   "metadata": {},
   "source": [
    "8. Repeat parts 5-7, this time using samples of 100 countries/regions from each year. How does the change in sample size affect your (a) evaluation of model assumptions and (b) resulting t-test p-value?"
   ]
  }
 ],
 "metadata": {
  "kernelspec": {
   "display_name": "Python 3",
   "language": "python",
   "name": "python3"
  },
  "language_info": {
   "codemirror_mode": {
    "name": "ipython",
    "version": 3
   },
   "file_extension": ".py",
   "mimetype": "text/x-python",
   "name": "python",
   "nbconvert_exporter": "python",
   "pygments_lexer": "ipython3",
   "version": "3.7.3"
  }
 },
 "nbformat": 4,
 "nbformat_minor": 2
}
