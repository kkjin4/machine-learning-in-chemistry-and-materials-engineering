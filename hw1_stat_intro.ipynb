{
 "cells": [
  {
   "cell_type": "markdown",
   "metadata": {},
   "source": [
    "Homework 1\n",
    "==========\n",
    "\n",
    "\n",
    "In this homework...\n",
    "\n",
    "* Analyze the distribution of measurements of pesticide content in water supplies in California (measurements between 6/1/2020 and 8/1/2020, provided by EPA)\n",
    "\n",
    "* Determine moments of the distribution based on an ensemble average and using the distribution\n",
    "\n",
    "* Demonstrate how a predicted distribution based on the first two moments can lead to erroneous behavior\n",
    "\n",
    "* Analyze measured properties including Nitrate, Nitrite, and Arsenic (see data file for more properties)"
   ]
  },
  {
   "cell_type": "markdown",
   "metadata": {},
   "source": [
    "Problem statement\n",
    "-----------------------"
   ]
  },
  {
   "cell_type": "markdown",
   "metadata": {},
   "source": [
    "1. Extract the 'CharacteristicName' equal to 'Nitrate' from the exp_data. Find the number of data points 'n_e' (note, 'len(x)' gives the length of an array 'x').\n",
    "\n",
    "2. Generate a probability density function for the distribution of nitrate concentrations using the histogram properties ('x0', 'xf', and 'n_bin') used in the exercise. Show that this histogram does not get agreement between $\\langle c \\rangle$ and $\\langle c^{2} \\rangle$ calculated from the data and from the histogram.\n",
    "\n",
    "3. Vary the maximum value in the histogram 'xf' and the number of bins 'n_bin' until we get agreement (precision of 1 decimal place) between $\\langle c \\rangle$ and $\\langle c^{2} \\rangle$ calculated from the data and from the histogram. Note, the maximum value 'xf' should be larger than the largest value in the set (note, 'np.max(x)' gives the largest value in the array 'x').\n",
    "\n",
    "4. Plot the histogram against a proposed model $f_{x}(x) = \\lambda \\exp (-\\lambda x)$, noting the property $\\langle x \\rangle = 1/\\lambda$. Generate a linear plot and a semilog plot (i.e. $\\log_{10} f_{x}$ versus $x$).\n",
    "\n",
    "5. Find the first 6 moments of the distribution. Plot these moments against the theoretical predictions on a semilog plot (i.e. $\\log_{10} \\langle x^{m} \\rangle$ versus $m$)\n",
    "\n",
    "6. Determine the lower bound of the histogram for the case of there being only 1 measurement that falls within a bin (i.e. only one instance of measured value). Replot the histogram on a semilog axis with this minimum value as a horizontal line.\n",
    "\n",
    "7. Now perform the same analyses on a 'CharacteristicName' of your choice. Options include 'Nitrite' and 'Arsenic', but other options can be found in the raw data file ('data/ca_water.csv')."
   ]
  },
  {
   "cell_type": "markdown",
   "metadata": {},
   "source": [
    "Import the necessary modules"
   ]
  },
  {
   "cell_type": "code",
   "execution_count": 1,
   "metadata": {},
   "outputs": [],
   "source": [
    "import numpy as np\n",
    "import sys\n",
    "import pandas as pd\n",
    "sys.path.append('../')\n",
    "import matplotlib.pyplot as plt"
   ]
  },
  {
   "cell_type": "markdown",
   "metadata": {},
   "source": [
    "Load the data [https://www.epa.gov/waterdata/water-quality-data-download]"
   ]
  },
  {
   "cell_type": "code",
   "execution_count": 2,
   "metadata": {},
   "outputs": [],
   "source": [
    "data = pd.read_csv(\"data/ca_water.csv\", low_memory = False)\n",
    "exp_data = data[['CharacteristicName', 'ResultMeasureValue']]"
   ]
  },
  {
   "cell_type": "code",
   "execution_count": 3,
   "metadata": {},
   "outputs": [],
   "source": [
    "def isfloat(value):\n",
    "    try:\n",
    "        float(value)\n",
    "        return True\n",
    "    except ValueError:\n",
    "        return False"
   ]
  },
  {
   "cell_type": "markdown",
   "metadata": {},
   "source": [
    "1. Extract the 'CharacteristicName' equal to 'Nitrate' from the exp_data. Find the number of data points 'n_e' (note, 'len(x)' gives the length of an array 'x')."
   ]
  },
  {
   "cell_type": "markdown",
   "metadata": {},
   "source": [
    "2. Generate a probability density function for the distribution of nitrate concentrations using the histogram properties ('x0', 'xf', and 'n_bin') used in the exercise."
   ]
  },
  {
   "cell_type": "markdown",
   "metadata": {},
   "source": [
    "3. Vary the maximum value in the histogram 'xf' and the number of bins 'n_bin' until we get agreement (precision of 2 decimal places) between $\\langle c \\rangle$ and $\\langle c^{2} \\rangle$ calculated from the data and from the histogram."
   ]
  },
  {
   "cell_type": "markdown",
   "metadata": {},
   "source": [
    "4. Plot the histogram against a proposed model $f_{x}(x) = \\lambda \\exp (-\\lambda x)$, noting the property $\\langle x \\rangle = 1/\\lambda$. Generate a linear plot and a semilog plot (i.e. $\\log_{10} f_{x}$ versus $x$)."
   ]
  },
  {
   "cell_type": "markdown",
   "metadata": {},
   "source": [
    "5. Find the first 6 moments of the distribution. Plot these moments against the theoretical predictions on a semilog plot (i.e. $\\log_{10} \\langle x^{m} \\rangle$ versus $m$)"
   ]
  },
  {
   "cell_type": "markdown",
   "metadata": {},
   "source": [
    "6. Determine the lower bound of the histogram for the case of there being only 1 measurement that falls within a bin (i.e. only one instance of measured value). Replot the histogram on a semilog axis with this minimum value as a horizontal line.\n",
    "\n"
   ]
  },
  {
   "cell_type": "markdown",
   "metadata": {},
   "source": [
    "7. Now perform the same analyses on a 'CharacteristicName' of your choice. Options include 'Nitrite' and 'Arsenic', but other options can be found in the raw data file ('data/ca_water.csv')."
   ]
  },
  {
   "cell_type": "code",
   "execution_count": null,
   "metadata": {},
   "outputs": [],
   "source": []
  }
 ],
 "metadata": {
  "kernelspec": {
   "display_name": "Python 3",
   "language": "python",
   "name": "python3"
  },
  "language_info": {
   "codemirror_mode": {
    "name": "ipython",
    "version": 3
   },
   "file_extension": ".py",
   "mimetype": "text/x-python",
   "name": "python",
   "nbconvert_exporter": "python",
   "pygments_lexer": "ipython3",
   "version": "3.7.6"
  }
 },
 "nbformat": 4,
 "nbformat_minor": 4
}
