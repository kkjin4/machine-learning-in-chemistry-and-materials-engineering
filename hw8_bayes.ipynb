{
 "cells": [
  {
   "cell_type": "markdown",
   "metadata": {},
   "source": [
    "# Homework 8\n",
    "\n",
    "In this homework...\n",
    "\n",
    "* Revisit the experimental data for the bandgap of PbS quantum dots versus size\n",
    "\n",
    "* Perform polynomial fits to the data and use Bayes Information Criterion to select the best-fit model\n",
    "\n",
    "* Tranform the data using a logarithm and repeat the model-selection routine and identify the best-fit model among all of the candidates"
   ]
  },
  {
   "cell_type": "code",
   "execution_count": 1,
   "metadata": {},
   "outputs": [],
   "source": [
    "import numpy as np\n",
    "import sys\n",
    "sys.path.append('../')\n",
    "import matplotlib.pyplot as plt\n",
    "import scipy.special as sp"
   ]
  },
  {
   "cell_type": "code",
   "execution_count": 4,
   "metadata": {},
   "outputs": [],
   "source": [
    "def f_dist(w, r1, r2):\n",
    "    r\"\"\"\n",
    "    f_dist - F-Distribution for the distribution of the ratio of variances\n",
    "\n",
    "    :param w: w parameter in the F-distribution\n",
    "    :param r1: Degrees of freedom 1 \n",
    "    :param r2: Degrees of freedom 2\n",
    "    \n",
    "    :return: f_val - Value of the F-Distribution\n",
    "    \"\"\"\n",
    "\n",
    "    f_val = sp.gamma((r1 + r2) / 2) * (r1 / r2) ** (r1 / 2) * w ** (r1 / 2 - 1) / (\n",
    "        sp.gamma(r1 / 2) * sp.gamma(r2 / 2) * (1 + r1 * w / r2) ** ((r1 + r2) / 2))\n",
    "\n",
    "\n",
    "    return f_val"
   ]
  },
  {
   "cell_type": "code",
   "execution_count": null,
   "metadata": {},
   "outputs": [],
   "source": [
    "data = np.loadtxt(open(\"data/bandgap.csv\", \"rb\"), delimiter=\",\", skiprows=0)\n",
    "size = data[:,0]\n",
    "bandgap = data[:,1:]"
   ]
  },
  {
   "cell_type": "markdown",
   "metadata": {},
   "source": [
    "Problem Statement\n",
    "-----------------------"
   ]
  },
  {
   "cell_type": "markdown",
   "metadata": {},
   "source": [
    "1. Load the bandgap data. Note that column 0 is the particle size (nm) and the remaining columns are individual measurements of the bandgap (eV) at each particle size. Calculate the mean bandgap at each particle size. Plot the individual measurements and mean bandgaps vs. particle size."
   ]
  },
  {
   "cell_type": "markdown",
   "metadata": {},
   "source": [
    "2. Generate polynomial fits to the plot of mean bandgap vs. particle size using polynomial orders from 1 (linear) to 7. Calculate the Bayes Information Criterion (BIC) for each of these fits. Plot the BIC vs. order of the polynomial fits."
   ]
  },
  {
   "cell_type": "markdown",
   "metadata": {},
   "source": [
    "3. Tranform the data by taking the log of both the particle size and the bandgap. Plot individual measurements and mean bandgaps, this time using logarithmic axes."
   ]
  },
  {
   "cell_type": "markdown",
   "metadata": {},
   "source": [
    "4. Generate polynomial fits to the plot of log-transformed mean bandgap vs. log-transformed particle size, again using polynomial orders ranging from 1 (linear) to 7. Determine the BIC for each of these fits. Plot the BIC vs. order of the polynomial fits."
   ]
  },
  {
   "cell_type": "markdown",
   "metadata": {},
   "source": [
    "5. Based on your results, identify the best-fit model among all candidates (i.e. polynomial fit with and without logarithmic transformation). Justify this choice based on guidelines provided in lecture."
   ]
  },
  {
   "cell_type": "markdown",
   "metadata": {},
   "source": [
    "6. **THOUGHT QUESTION:** In the class example applying Bayes' Theorem to COVID-19 testing, you saw that due to an imbalance in the prior, even a low false positive rate can result a large portion of positive tests returned from healthy individuals. One way to reduce the false positive rate would be to increase the threshold required by the test to return a positive result – however, this comes at the expense of an increased false negative rate. Often times when designing tests there is a trade-off between false positive and false negative rates. Describe a scenario where you would accept a higher false positive rate for a lower false negative rate. Describe another scenario where you would accept a higher false negative rate for a lower false positive rate."
   ]
  }
 ],
 "metadata": {
  "kernelspec": {
   "display_name": "Python 3 (ipykernel)",
   "language": "python",
   "name": "python3"
  },
  "language_info": {
   "codemirror_mode": {
    "name": "ipython",
    "version": 3
   },
   "file_extension": ".py",
   "mimetype": "text/x-python",
   "name": "python",
   "nbconvert_exporter": "python",
   "pygments_lexer": "ipython3",
   "version": "3.7.11"
  }
 },
 "nbformat": 4,
 "nbformat_minor": 4
}
