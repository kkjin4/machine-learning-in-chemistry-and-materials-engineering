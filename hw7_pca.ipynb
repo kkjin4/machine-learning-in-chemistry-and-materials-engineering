{
 "cells": [
  {
   "cell_type": "markdown",
   "metadata": {},
   "source": [
    "# Homework 7"
   ]
  },
  {
   "cell_type": "markdown",
   "metadata": {},
   "source": [
    "In this notebook...\n",
    "- Use PCA to determine principal components of genotypic data\n",
    "- Perform PCA using 2 covariates, and compare this to PCA on a full dataset"
   ]
  },
  {
   "cell_type": "markdown",
   "metadata": {},
   "source": [
    "## Problem Statement\n",
    "\n",
    "$\\textbf{Note:}$ the covariates (independent variables) in this dataset are genes and are the rows of the `edata.csv` file. The dependent variable is the phenotype and is the `cancer` column of the `pdata.csv` file. The instances of the dataset are cells and are both the columns of `edata.csv` and the rows of `pdata.csv`.\n",
    "\n",
    "1. How many genes are there in the dataset? This is equal to the number of rows in the `edata.csv` file.\n",
    "\n",
    "\n",
    "2. Run PCA on the genotype data. Make sure to de-mean each covariate. You can use the same code provided in the discussion. What is the ratio between the variance explained by the first component and the variance explained by the second component? What is the ratio between that of the first and tenth components?\n",
    "\n",
    "\n",
    "3. Create an array of the weight of each covariate for the $\\textit{first}$ principal component (the first column of $\\textbf{v}$). This is the principal component with the highest explained variance. $\\textbf{Hint:}$ `.components_` gives the weight of each covariate for each component in order of explained variance (highest explained variance is first). Report the length of your array -- it should be the same as your answer to part 1.\n",
    "\n",
    "\n",
    "4. Using your array from part 3, find and clearly report the indices (in your array from part 3) of the two covariates which contribute the most to the first component. This will be the two covariates with the highest absolute values in your part 3 array. You can use `np.argsort()` to find these, but you do not have to.\n",
    "\n",
    "\n",
    "5. Plot the values of your two genes found in part 4 for every data point. You should be plotting two rows of `edata.csv`. The index of a gene in your part 3 array will be the same as its index in `edata.csv`. Color each point by its phenotype. You can use the same code provided in the discussion notebook. You are welcome to plot the raw data or the demeaned data.\n",
    "\n",
    "\n",
    "6. Now run PCA again but only use data from the two genes you found in part 4 (two covariates). Make sure the data is de-meaned for this. Transform the data into component space and plot the data in the space of the first (only) two components. The code for transforming and plotting data in component space can be found in the discussion notebook.\n",
    "\n",
    "Recall in the discussion that running PCA on the full dataset made it easier to classify the data even from just the first 2 principal componets. (Easier to classify means the 3 colors are in more separate clumps). You should see from this problem that just using the 2 genes which explain the most variance in the dataset does not make the data easier to classify. This shows the power of PCA as a dimensionality reduction tool -- using many variables to determine the best axes to classify data, even though PCA is an unsupervised learning method."
   ]
  },
  {
   "cell_type": "markdown",
   "metadata": {},
   "source": [
    "Import modules"
   ]
  },
  {
   "cell_type": "code",
   "execution_count": 1,
   "metadata": {},
   "outputs": [],
   "source": [
    "import numpy as np\n",
    "import sys\n",
    "import matplotlib.pyplot as plt\n",
    "import json\n",
    "import pandas as pd\n",
    "from sklearn import linear_model\n",
    "from sklearn.metrics import mean_squared_error,r2_score\n",
    "from sklearn.decomposition import PCA"
   ]
  },
  {
   "cell_type": "markdown",
   "metadata": {},
   "source": [
    "Load data"
   ]
  },
  {
   "cell_type": "code",
   "execution_count": 10,
   "metadata": {},
   "outputs": [],
   "source": [
    "# import phenotype data\n",
    "pdata = pd.read_csv(\"./data/pdata.csv\")\n",
    "# import expression data\n",
    "edata = pd.read_csv(\"./data/edata.csv\")"
   ]
  },
  {
   "cell_type": "markdown",
   "metadata": {},
   "source": [
    "1. How many genes are there in the dataset? This is equal to the number of rows in the `edata.csv` file."
   ]
  },
  {
   "cell_type": "markdown",
   "metadata": {},
   "source": [
    "2. Run PCA on the genotype data. Make sure to de-mean each covariate. You can use the same code provided in the discussion. What is the ratio between the variance explained by the first component and the variance explained by the second component? What is the ratio between that of the first and tenth components?"
   ]
  },
  {
   "cell_type": "markdown",
   "metadata": {},
   "source": [
    "3. Create an array of the weight of each covariate for the $\\textit{first}$ principal component (the first column of $\\textbf{v}$). This is the principal component with the highest explained variance. $\\textbf{Hint:}$ `.components_` gives the weight of each covariate for each component in order of explained variance (highest explained variance is first). Report the length of your array -- it should be the same as your answer to part 1."
   ]
  },
  {
   "cell_type": "markdown",
   "metadata": {},
   "source": [
    "4. Using your array from part 3, find and clearly report the indices (in your array from part 3) of the two covariates which contribute the most to the first component. This will be the two covariates with the highest absolute values in your part 3 array. You can use `np.argsort()` to find these, but you do not have to."
   ]
  },
  {
   "cell_type": "markdown",
   "metadata": {},
   "source": [
    "5. Plot the values of your two genes found in part 4 for every data point. You should be plotting two rows of `edata.csv`. The index of a gene in your part 3 array will be the same as its index in `edata.csv`. Color each point by its phenotype. You can use the same code provided in the discussion notebook. You are welcome to plot the raw data or the demeaned data."
   ]
  },
  {
   "cell_type": "markdown",
   "metadata": {},
   "source": [
    "6. Now run PCA again but only use data from the two genes you found in part 4 (two covariates). Make sure the data is de-meaned for this. Transform the data into component space and plot the data in the space of the first (only) two components. The code for transforming and plotting data in component space can be found in the discussion notebook.\n",
    "\n",
    "Recall in the discussion that running PCA on the full dataset made it easier to classify the data even from just the first 2 principal componets. (Easier to classify means the 3 colors are in more separate clumps). You should see from this problem that just using the 2 genes which explain the most variance in the dataset does not make the data easier to classify. This shows the power of PCA as a dimensionality reduction tool -- using many variables to determine the best axes to classify data -- even though PCA is an unsupervised learning method."
   ]
  },
  {
   "cell_type": "code",
   "execution_count": null,
   "metadata": {},
   "outputs": [],
   "source": []
  }
 ],
 "metadata": {
  "kernelspec": {
   "display_name": "Python 3 (ipykernel)",
   "language": "python",
   "name": "python3"
  },
  "language_info": {
   "codemirror_mode": {
    "name": "ipython",
    "version": 3
   },
   "file_extension": ".py",
   "mimetype": "text/x-python",
   "name": "python",
   "nbconvert_exporter": "python",
   "pygments_lexer": "ipython3",
   "version": "3.7.11"
  }
 },
 "nbformat": 4,
 "nbformat_minor": 4
}
