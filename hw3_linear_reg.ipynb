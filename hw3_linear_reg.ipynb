{
 "cells": [
  {
   "cell_type": "markdown",
   "metadata": {},
   "source": [
    "Homework 3\n",
    "==========\n",
    "\n",
    "In this homework...\n",
    "\n",
    "\n",
    "* Model experimental data of the mobility versus field and temperature for conjugated polymer materials using multivariable linear regression\n",
    "* Assess the goodness of fit of linear models"
   ]
  },
  {
   "cell_type": "markdown",
   "metadata": {},
   "source": [
    "Problem statement\n",
    "-----------------------\n",
    "1. Plot the square root of the electric field $\\left(\\sqrt{F}\\right)$ versus the mobility $\\left(\\mu_H\\right)$ for data points only at temperatures of 173, 273, and 343 K. Plot all three on the same plot and include a legend denoting which points are at which temperature.\n",
    "\n",
    "\n",
    "2. Perform a multi-variable linear regression to predict $\\log_{10}(\\mu_{H})$ from the variables $\\sqrt{F} / T^{2}$ and $1/T^{2}$ using $\\textit{all}$ of the data (i.e., data at all temperatures should be used to fit the linear regression). Create a copy of the same plot from part 1 (again only temperatures 173, 273, and 343 K), and now add lines of best fit from this linear regression model.\n",
    "\n",
    "    \n",
    "3. Find the $R^2$ value of each of the 3 linear fits described above. ($\\textbf{Note:}$ This can be done with the function sklearn.metrics.r2_score(). You can use Google to find the documentation of this function if you are unfamiliar.) Clearly report the $R^2$ values of each temperature.\n",
    "\n",
    "\n",
    "4. Again perform a multi-variable linear regression to predict $\\log_{10}(\\mu_{H})$ from the variables $\\sqrt{F} / T^{2}$ and $1/T^{2}$ using $\\textit{only data at or above a temperature of 273 K}$. Create a copy of the same plot from part 2 (only temperatures 173, 273, and 343 K), and add lines of best fit from this linear regression model. Report $R^2$ values for each fit.\n",
    "\n",
    "\n",
    "5. Pick a new temperature besides 173, 273, or 343 K. Repeat the analysis from part 4, with the following changes:\n",
    "    - Only plot the data and linear fit of your chosen temperature\n",
    "    - Use a different range of 7 temperatures to train the linear model (besides those at 273 K or above - for example, you could train the model on temperatures at or below 243 K)\n",
    "    - Report what temperature range you used for training and the $R^2$ value of the fit\n",
    "    - Repeat this 3 more times with different temperature ranges (you should have 4 total temperature ranges, plots, and $R^2$ values\n"
   ]
  },
  {
   "cell_type": "markdown",
   "metadata": {},
   "source": [
    "Import the necessary modules"
   ]
  },
  {
   "cell_type": "code",
   "execution_count": 1,
   "metadata": {},
   "outputs": [],
   "source": [
    "import numpy as np\n",
    "import sys\n",
    "sys.path.append('../')\n",
    "import matplotlib.pyplot as plt\n",
    "import pandas as pd\n",
    "from sklearn.metrics import r2_score\n",
    "from sklearn import linear_model\n",
    "import sklearn.metrics as metrics"
   ]
  },
  {
   "cell_type": "markdown",
   "metadata": {},
   "source": [
    "Load the data [extracted from Fig 4 of Laquai, Frederic, Gerhard Wegner, and Heinz Bässler. \"What determines the mobility of charge carriers in conjugated polymers?.\" Philosophical Transactions of the Royal Society A: Mathematical, Physical and Engineering Sciences 365.1855 (2007): 1473-1487.]"
   ]
  },
  {
   "cell_type": "code",
   "execution_count": 2,
   "metadata": {},
   "outputs": [
    {
     "name": "stdout",
     "output_type": "stream",
     "text": [
      "[173.  183.  203.  213.  223.  233.  243.  253.  263.  273.  296.6 303.\n",
      " 313.  323.  333.  343. ]\n"
     ]
    }
   ],
   "source": [
    "file_name = 'data/conjpoly_mobility.csv'\n",
    "names = [\"field\",\"temperature\",\"mobility\"]\n",
    "data = pd.read_csv(file_name, header=None, names=names)\n",
    "field = data.loc[:,\"field\"]\n",
    "temperature = data.loc[:,\"temperature\"]\n",
    "mobility = 10**data.loc[:,\"mobility\"]\n",
    "alltemps = data.temperature.unique()\n",
    "print(alltemps)"
   ]
  },
  {
   "cell_type": "markdown",
   "metadata": {},
   "source": [
    "1. Plot the square root of the electric field $\\left(\\sqrt{F}\\right)$ versus the mobility $\\left(\\mu_H\\right)$ for data points only at temperatures of 173, 273, and 343 K. Plot all three on the same plot and include a legend denoting which points are at which temperature."
   ]
  },
  {
   "cell_type": "markdown",
   "metadata": {},
   "source": [
    "2. Perform a multi-variable linear regression to predict $\\log_{10}(\\mu_{H})$ from the variables $\\sqrt{F} / T^{2}$ and $1/T^{2}$ using $\\textit{all}$ of the data (i.e., data at all temperatures should be used to fit the linear regression). Create a copy of the same plot from part 1 (again only temperatures 173, 273, and 343 K), and now add lines of best fit from this linear regression model."
   ]
  },
  {
   "cell_type": "markdown",
   "metadata": {},
   "source": [
    "3. Find the $R^2$ value of each of the 3 linear fits described above. ($\\textbf{Note:}$ This can be done with the function sklearn.metrics.r2_score(). You can use Google to find the documentation of this function if you are unfamiliar.) Clearly report the $R^2$ values of each temperature."
   ]
  },
  {
   "cell_type": "markdown",
   "metadata": {},
   "source": [
    "4. Again perform a multi-variable linear regression to predict $\\log_{10}(\\mu_{H})$ from the variables $\\sqrt{F} / T^{2}$ and $1/T^{2}$ using $\\textit{only data at or above a temperature of 273 K}$. Create a copy of the same plot from part 2 (only temperatures 173, 273, and 343 K), and add lines of best fit from this linear regression model. Report $R^2$ values for each fit."
   ]
  },
  {
   "cell_type": "markdown",
   "metadata": {},
   "source": [
    "5. Pick a new temperature besides 173, 273, or 343 K. Repeat the analysis from part 4, with the following changes:\n",
    "    - Only plot the data and linear fit of your chosen temperature\n",
    "    - Use a different range of 7 temperatures to train the linear model (besides those at 273 K or above - for example, you could train the model on temperatures at or below 243 K)\n",
    "    - Report what temperature range you used for training and the $R^2$ value of the fit\n",
    "    - Repeat this 3 more times with different temperature ranges (you should have 4 total temperature ranges, plots, and $R^2$ values\n"
   ]
  },
  {
   "cell_type": "code",
   "execution_count": null,
   "metadata": {},
   "outputs": [],
   "source": []
  }
 ],
 "metadata": {
  "kernelspec": {
   "display_name": "Python 3",
   "language": "python",
   "name": "python3"
  },
  "language_info": {
   "codemirror_mode": {
    "name": "ipython",
    "version": 3
   },
   "file_extension": ".py",
   "mimetype": "text/x-python",
   "name": "python",
   "nbconvert_exporter": "python",
   "pygments_lexer": "ipython3",
   "version": "3.7.3"
  }
 },
 "nbformat": 4,
 "nbformat_minor": 4
}
