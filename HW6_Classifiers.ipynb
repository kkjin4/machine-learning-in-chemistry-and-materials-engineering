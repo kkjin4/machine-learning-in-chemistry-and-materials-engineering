{
 "cells": [
  {
   "cell_type": "markdown",
   "metadata": {},
   "source": [
    "# Application of ML Classifiers to Identify Aged Cells\n",
    "\n",
    "During this homework, aged and youthful RBCs will be classified based on DNA methylation profiles.\n",
    "\n",
    "This homework will:\n",
    "\n",
    "* Compare performance of various classification algorithms\n",
    "\n",
    "* Evaluate effects of train/test split on classifier performance\n",
    "\n"
   ]
  },
  {
   "cell_type": "markdown",
   "metadata": {},
   "source": [
    "Data for this homework comes from GEO GSE40279: [Hannum, G.; Guinney, J.; Zhao, L.; Zhang, L.; Hughes, G.; Sadda, S.; Klotzle, B.; Bibikova, M.; Fan, J.-B.; Gao, Y.; Deconde, R.; Chen, M.; Rajapakse, I.; Friend, S.; Ideker, T.; Zhang, K. Genome-Wide Methylation Profiles Reveal Quantitative Views of Human Aging Rates. Mol Cell 2013, 49 (2), 359–367.](https://doi.org/10.1016/j.molcel.2012.10.016)"
   ]
  },
  {
   "cell_type": "markdown",
   "metadata": {},
   "source": [
    "## Problem Statements:\n",
    "\n",
    "1. Plot the age distribution of subjects using a histogram. Add a vertical line to the plot at age 65.\n",
    "\n",
    "<br/>\n",
    "\n",
    "2. Label subjects using two groups: \"youthful\" (ages <65) and \"aged\" (ages >=65). This age threshold divides the subjects into two groups of approximately equal size.\n",
    "\n",
    "<br/>\n",
    "\n",
    "3. Randomly assign 20% of all subjects to a training set. Assign the remaining 80% of subjects to a test set.\n",
    "\n",
    "<br/>\n",
    "\n",
    "4. Train an SVM and logistic regression classifier to predict age labels (\"youthful\" or \"aged\") using subjects in the **training set** based on CpG methylation levels. **Note:** When training your SVM classifier, use a linear kernel.\n",
    "\n",
    "<br/>\n",
    "\n",
    "5. Evaluate each classifier's performance on the **test set** by reporting classification accuracy.\n",
    "\n",
    "<br/>\n",
    "\n",
    "6. Repeat questions 3-5 for a 80%/20% train/test split. How does increasing the training set size affect classifier performance?\n",
    "\n",
    "<br/>"
   ]
  },
  {
   "cell_type": "code",
   "execution_count": 1,
   "metadata": {},
   "outputs": [],
   "source": [
    "import numpy as np\n",
    "import pandas as pd\n",
    "import matplotlib.pyplot as plt\n",
    "from sklearn import svm\n",
    "from sklearn.linear_model import LogisticRegression\n",
    "from sklearn.metrics import confusion_matrix\n",
    "from sklearn.model_selection import train_test_split"
   ]
  },
  {
   "cell_type": "markdown",
   "metadata": {},
   "source": [
    "## Load Blood Cell DNA Methylation Data\n",
    "\n",
    "\n"
   ]
  },
  {
   "cell_type": "code",
   "execution_count": 2,
   "metadata": {},
   "outputs": [
    {
     "name": "stdout",
     "output_type": "stream",
     "text": [
      "Shape of Data Set: \n",
      "\n",
      "(656, 3231)\n",
      "\n"
     ]
    },
    {
     "data": {
      "text/html": [
       "<div>\n",
       "<style scoped>\n",
       "    .dataframe tbody tr th:only-of-type {\n",
       "        vertical-align: middle;\n",
       "    }\n",
       "\n",
       "    .dataframe tbody tr th {\n",
       "        vertical-align: top;\n",
       "    }\n",
       "\n",
       "    .dataframe thead th {\n",
       "        text-align: right;\n",
       "    }\n",
       "</style>\n",
       "<table border=\"1\" class=\"dataframe\">\n",
       "  <thead>\n",
       "    <tr style=\"text-align: right;\">\n",
       "      <th></th>\n",
       "      <th>cg00320765</th>\n",
       "      <th>cg04223956</th>\n",
       "      <th>cg03407966</th>\n",
       "      <th>cg07403374</th>\n",
       "      <th>cg10122230</th>\n",
       "      <th>cg24603972</th>\n",
       "      <th>cg04105597</th>\n",
       "      <th>cg12613081</th>\n",
       "      <th>cg20169734</th>\n",
       "      <th>cg06012428</th>\n",
       "      <th>...</th>\n",
       "      <th>cg04820440</th>\n",
       "      <th>cg12662162</th>\n",
       "      <th>cg18527971</th>\n",
       "      <th>cg24367761</th>\n",
       "      <th>cg13027280</th>\n",
       "      <th>cg14801864</th>\n",
       "      <th>cg04984575</th>\n",
       "      <th>cg24836583</th>\n",
       "      <th>cg18079534</th>\n",
       "      <th>cg17362351</th>\n",
       "    </tr>\n",
       "  </thead>\n",
       "  <tbody>\n",
       "    <tr>\n",
       "      <th>GSM989827</th>\n",
       "      <td>0.785241</td>\n",
       "      <td>0.906154</td>\n",
       "      <td>0.943392</td>\n",
       "      <td>0.945140</td>\n",
       "      <td>0.904783</td>\n",
       "      <td>0.925199</td>\n",
       "      <td>0.939552</td>\n",
       "      <td>0.927781</td>\n",
       "      <td>0.907609</td>\n",
       "      <td>0.562828</td>\n",
       "      <td>...</td>\n",
       "      <td>0.905512</td>\n",
       "      <td>0.113116</td>\n",
       "      <td>0.862678</td>\n",
       "      <td>0.920586</td>\n",
       "      <td>0.918897</td>\n",
       "      <td>0.388287</td>\n",
       "      <td>0.492888</td>\n",
       "      <td>0.015052</td>\n",
       "      <td>0.879088</td>\n",
       "      <td>0.929998</td>\n",
       "    </tr>\n",
       "    <tr>\n",
       "      <th>GSM989828</th>\n",
       "      <td>0.811994</td>\n",
       "      <td>0.883670</td>\n",
       "      <td>0.937935</td>\n",
       "      <td>0.938376</td>\n",
       "      <td>0.929686</td>\n",
       "      <td>0.930090</td>\n",
       "      <td>0.945331</td>\n",
       "      <td>0.927932</td>\n",
       "      <td>0.889046</td>\n",
       "      <td>0.494344</td>\n",
       "      <td>...</td>\n",
       "      <td>0.858246</td>\n",
       "      <td>0.086961</td>\n",
       "      <td>0.839228</td>\n",
       "      <td>0.907824</td>\n",
       "      <td>0.893503</td>\n",
       "      <td>0.302853</td>\n",
       "      <td>0.481399</td>\n",
       "      <td>0.022104</td>\n",
       "      <td>0.887265</td>\n",
       "      <td>0.920493</td>\n",
       "    </tr>\n",
       "    <tr>\n",
       "      <th>GSM989829</th>\n",
       "      <td>0.771808</td>\n",
       "      <td>0.893670</td>\n",
       "      <td>0.947600</td>\n",
       "      <td>0.915895</td>\n",
       "      <td>0.914621</td>\n",
       "      <td>0.917694</td>\n",
       "      <td>0.953757</td>\n",
       "      <td>0.901260</td>\n",
       "      <td>0.905771</td>\n",
       "      <td>0.538240</td>\n",
       "      <td>...</td>\n",
       "      <td>0.890826</td>\n",
       "      <td>0.124099</td>\n",
       "      <td>0.868137</td>\n",
       "      <td>0.891428</td>\n",
       "      <td>0.899440</td>\n",
       "      <td>0.372548</td>\n",
       "      <td>0.510238</td>\n",
       "      <td>0.012122</td>\n",
       "      <td>0.899792</td>\n",
       "      <td>0.936039</td>\n",
       "    </tr>\n",
       "    <tr>\n",
       "      <th>GSM989830</th>\n",
       "      <td>0.800116</td>\n",
       "      <td>0.905407</td>\n",
       "      <td>0.930441</td>\n",
       "      <td>0.922973</td>\n",
       "      <td>0.891672</td>\n",
       "      <td>0.923459</td>\n",
       "      <td>0.951738</td>\n",
       "      <td>0.899530</td>\n",
       "      <td>0.881363</td>\n",
       "      <td>0.533346</td>\n",
       "      <td>...</td>\n",
       "      <td>0.902694</td>\n",
       "      <td>0.087692</td>\n",
       "      <td>0.830208</td>\n",
       "      <td>0.910664</td>\n",
       "      <td>0.921690</td>\n",
       "      <td>0.366668</td>\n",
       "      <td>0.511379</td>\n",
       "      <td>0.021467</td>\n",
       "      <td>0.924791</td>\n",
       "      <td>0.951897</td>\n",
       "    </tr>\n",
       "    <tr>\n",
       "      <th>GSM989831</th>\n",
       "      <td>0.799606</td>\n",
       "      <td>0.882730</td>\n",
       "      <td>0.963902</td>\n",
       "      <td>0.909886</td>\n",
       "      <td>0.918864</td>\n",
       "      <td>0.939070</td>\n",
       "      <td>0.964011</td>\n",
       "      <td>0.923141</td>\n",
       "      <td>0.897723</td>\n",
       "      <td>0.604858</td>\n",
       "      <td>...</td>\n",
       "      <td>0.883601</td>\n",
       "      <td>0.098855</td>\n",
       "      <td>0.857063</td>\n",
       "      <td>0.891470</td>\n",
       "      <td>0.904103</td>\n",
       "      <td>0.407622</td>\n",
       "      <td>0.455352</td>\n",
       "      <td>0.021815</td>\n",
       "      <td>0.893462</td>\n",
       "      <td>0.939561</td>\n",
       "    </tr>\n",
       "  </tbody>\n",
       "</table>\n",
       "<p>5 rows × 3231 columns</p>\n",
       "</div>"
      ],
      "text/plain": [
       "           cg00320765  cg04223956  cg03407966  cg07403374  cg10122230  \\\n",
       "GSM989827    0.785241    0.906154    0.943392    0.945140    0.904783   \n",
       "GSM989828    0.811994    0.883670    0.937935    0.938376    0.929686   \n",
       "GSM989829    0.771808    0.893670    0.947600    0.915895    0.914621   \n",
       "GSM989830    0.800116    0.905407    0.930441    0.922973    0.891672   \n",
       "GSM989831    0.799606    0.882730    0.963902    0.909886    0.918864   \n",
       "\n",
       "           cg24603972  cg04105597  cg12613081  cg20169734  cg06012428  ...  \\\n",
       "GSM989827    0.925199    0.939552    0.927781    0.907609    0.562828  ...   \n",
       "GSM989828    0.930090    0.945331    0.927932    0.889046    0.494344  ...   \n",
       "GSM989829    0.917694    0.953757    0.901260    0.905771    0.538240  ...   \n",
       "GSM989830    0.923459    0.951738    0.899530    0.881363    0.533346  ...   \n",
       "GSM989831    0.939070    0.964011    0.923141    0.897723    0.604858  ...   \n",
       "\n",
       "           cg04820440  cg12662162  cg18527971  cg24367761  cg13027280  \\\n",
       "GSM989827    0.905512    0.113116    0.862678    0.920586    0.918897   \n",
       "GSM989828    0.858246    0.086961    0.839228    0.907824    0.893503   \n",
       "GSM989829    0.890826    0.124099    0.868137    0.891428    0.899440   \n",
       "GSM989830    0.902694    0.087692    0.830208    0.910664    0.921690   \n",
       "GSM989831    0.883601    0.098855    0.857063    0.891470    0.904103   \n",
       "\n",
       "           cg14801864  cg04984575  cg24836583  cg18079534  cg17362351  \n",
       "GSM989827    0.388287    0.492888    0.015052    0.879088    0.929998  \n",
       "GSM989828    0.302853    0.481399    0.022104    0.887265    0.920493  \n",
       "GSM989829    0.372548    0.510238    0.012122    0.899792    0.936039  \n",
       "GSM989830    0.366668    0.511379    0.021467    0.924791    0.951897  \n",
       "GSM989831    0.407622    0.455352    0.021815    0.893462    0.939561  \n",
       "\n",
       "[5 rows x 3231 columns]"
      ]
     },
     "execution_count": 2,
     "metadata": {},
     "output_type": "execute_result"
    }
   ],
   "source": [
    "CpG_methylation = pd.read_csv('data/blood_top_CpGs.csv', index_col=0, header=0).drop(labels=\"age\", axis=1)\n",
    "\n",
    "print(\"Shape of Data Set: \")\n",
    "print()\n",
    "print(CpG_methylation.shape)\n",
    "print()\n",
    "CpG_methylation.head()"
   ]
  },
  {
   "cell_type": "markdown",
   "metadata": {},
   "source": [
    "## Load Sample Ages"
   ]
  },
  {
   "cell_type": "code",
   "execution_count": 3,
   "metadata": {},
   "outputs": [
    {
     "data": {
      "text/html": [
       "<div>\n",
       "<style scoped>\n",
       "    .dataframe tbody tr th:only-of-type {\n",
       "        vertical-align: middle;\n",
       "    }\n",
       "\n",
       "    .dataframe tbody tr th {\n",
       "        vertical-align: top;\n",
       "    }\n",
       "\n",
       "    .dataframe thead th {\n",
       "        text-align: right;\n",
       "    }\n",
       "</style>\n",
       "<table border=\"1\" class=\"dataframe\">\n",
       "  <thead>\n",
       "    <tr style=\"text-align: right;\">\n",
       "      <th></th>\n",
       "      <th>1</th>\n",
       "    </tr>\n",
       "    <tr>\n",
       "      <th>0</th>\n",
       "      <th></th>\n",
       "    </tr>\n",
       "  </thead>\n",
       "  <tbody>\n",
       "    <tr>\n",
       "      <th>GSM989827</th>\n",
       "      <td>67.0</td>\n",
       "    </tr>\n",
       "    <tr>\n",
       "      <th>GSM989828</th>\n",
       "      <td>89.0</td>\n",
       "    </tr>\n",
       "    <tr>\n",
       "      <th>GSM989829</th>\n",
       "      <td>66.0</td>\n",
       "    </tr>\n",
       "    <tr>\n",
       "      <th>GSM989830</th>\n",
       "      <td>64.0</td>\n",
       "    </tr>\n",
       "    <tr>\n",
       "      <th>GSM989831</th>\n",
       "      <td>62.0</td>\n",
       "    </tr>\n",
       "  </tbody>\n",
       "</table>\n",
       "</div>"
      ],
      "text/plain": [
       "              1\n",
       "0              \n",
       "GSM989827  67.0\n",
       "GSM989828  89.0\n",
       "GSM989829  66.0\n",
       "GSM989830  64.0\n",
       "GSM989831  62.0"
      ]
     },
     "execution_count": 3,
     "metadata": {},
     "output_type": "execute_result"
    }
   ],
   "source": [
    "subject_ages = pd.read_csv(\"data/subject_ages.csv\", index_col=0, header=None)\n",
    "\n",
    "subject_ages.head()"
   ]
  },
  {
   "cell_type": "markdown",
   "metadata": {},
   "source": [
    "## Solutions"
   ]
  },
  {
   "cell_type": "markdown",
   "metadata": {},
   "source": [
    "1. Plot the age distribution of subjects using a histogram. Add a vertical line to the plot at age 65."
   ]
  },
  {
   "cell_type": "markdown",
   "metadata": {},
   "source": [
    "2. Label subjects using two groups: \"youthful\" (ages <65) and \"aged\" (ages >=65). This age threshold divides the subjects into two groups of approximately equal size."
   ]
  },
  {
   "cell_type": "markdown",
   "metadata": {},
   "source": [
    "3. Randomly assign 20% of all subjects to a training set. Assign the remaining 80% of subjects to a test set."
   ]
  },
  {
   "cell_type": "markdown",
   "metadata": {},
   "source": [
    "4. Train an SVM and logistic regression classifier to predict age labels (\"youthful\" or \"aged\") using subjects in the **training set** based on CpG methylation levels. **Note:** When training your SVM classifier, use a linear kernel."
   ]
  },
  {
   "cell_type": "markdown",
   "metadata": {},
   "source": [
    "5. Evaluate each classifier's performance on the **test set** by reporting classification accuracy."
   ]
  },
  {
   "cell_type": "markdown",
   "metadata": {},
   "source": [
    "6. Repeat questions 3-5 for a 80%/20% train/test split. How does increasing the training set size affect classifier performance?"
   ]
  },
  {
   "cell_type": "code",
   "execution_count": null,
   "metadata": {},
   "outputs": [],
   "source": []
  }
 ],
 "metadata": {
  "kernelspec": {
   "display_name": "Python 3",
   "language": "python",
   "name": "python3"
  },
  "language_info": {
   "codemirror_mode": {
    "name": "ipython",
    "version": 3
   },
   "file_extension": ".py",
   "mimetype": "text/x-python",
   "name": "python",
   "nbconvert_exporter": "python",
   "pygments_lexer": "ipython3",
   "version": "3.7.3"
  }
 },
 "nbformat": 4,
 "nbformat_minor": 2
}
