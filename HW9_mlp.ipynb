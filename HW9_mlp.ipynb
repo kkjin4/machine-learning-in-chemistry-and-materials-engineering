{
 "metadata": {
  "language_info": {
   "codemirror_mode": {
    "name": "ipython",
    "version": 3
   },
   "file_extension": ".py",
   "mimetype": "text/x-python",
   "name": "python",
   "nbconvert_exporter": "python",
   "pygments_lexer": "ipython3",
   "version": "3.7.3"
  },
  "orig_nbformat": 2,
  "kernelspec": {
   "name": "python373jvsc74a57bd0865d95156a1b6238df17bd0086e5ad34b316e96e7d0b64c77c6e81d7f7a36cb5",
   "display_name": "Python 3.7.3 64-bit ('base': conda)"
  }
 },
 "nbformat": 4,
 "nbformat_minor": 2,
 "cells": [
  {
   "source": [
    "# Multilayer Perceptron for Pancreatic Cell Classification\n",
    "\n",
    "* For this homework, you will apply scRNA-seq data to classify different types of pancreatic cells\n",
    "\n",
    "* To do so, we will apply and compare various classification algorithms demonstrated in class\n"
   ],
   "cell_type": "markdown",
   "metadata": {}
  },
  {
   "source": [
    "Preprocessed RNA sequence data is published by:\n",
    "\n",
    "* [Abdelaal, T.; Michielsen, L.; Cats, D.; Hoogduin, D.; Mei, H.; Reinders, M. J. T.; Mahfouz, A. A Comparison of Automatic Cell Identification Methods for Single-Cell RNA Sequencing Data. Genome Biology 2019, 20 (1), 194.](https://doi.org/10.1186/s13059-019-1795-z)\n"
   ],
   "cell_type": "markdown",
   "metadata": {}
  },
  {
   "source": [
    "## Problem Statement"
   ],
   "cell_type": "markdown",
   "metadata": {}
  },
  {
   "source": [
    "1. Load pancreatic cell labels from `data/Pancreatic_Labels.csv` into a list or vector called `all_labels`, and print this vector. Load the single-cell RNA-seq data from `data/subset_combined_humanpancreas_data.csv` into a pandas data frame called `scRNAseq_data`, making sure to specify that the index column is column 0. Print the head of this data frame. The classes in `all_labels` correspond to rows in `scRNAseq_data`.\n",
    "\n",
    "2. Isolate indices in `all_labels` corresponding either \"alpha\" or \"beta\" pancreatic cell labels. Isolate values in `all_labels` corresponding to these indices, and store this new label vector as `labels_ab`. Likewise, isolate rows in `scRNAseq_data` corresponding to these indices, and store these rows in a data frame called `scRNAseq_ab`. Print the **length** of `labels_ab` and the **shape** of `scRNAseq_ab`.\n",
    "\n",
    "3. We will train classifiers to predict \"alpha\" or \"beta\" pancreatic cell types from scRNA-seq data. Our covariates are the mRNA counts in `scRNAseq_ab` and our labels are the \"alpha\" and \"beta\" classes in `labels_ab`. Create an 80%/20% train/test split of this data.\n",
    "\n",
    "4. Using the training set, train a logistic regression classifier to predict pancreatic cell labels. Then, evaluate the classifier performance by reporting its accuracy at predicting cell classes in the test set.\n",
    "\n",
    "5. Repeat problem 4 for an SVM classifier. You may select a kernel of your choice, but please explicitly specify the kernel when initializing your classifier.\n",
    "\n",
    "6. Repeat problem 4 for an MLP classifier. You may select an activation function of your choice, but please explicitly specify the activation function when initializing your classifier. You may change the hidden layer architecture from its default settings if you would like, but you do not have to.\n",
    "\n",
    "7. How did the performance of the three classifiers compare to one-another? "
   ],
   "cell_type": "markdown",
   "metadata": {}
  },
  {
   "source": [
    "## Solutions"
   ],
   "cell_type": "markdown",
   "metadata": {}
  },
  {
   "cell_type": "code",
   "execution_count": 1,
   "metadata": {},
   "outputs": [],
   "source": [
    "import numpy as np\n",
    "import pandas as pd\n",
    "from sklearn.linear_model import LogisticRegression\n",
    "from sklearn.svm import SVC\n",
    "from sklearn.neural_network import MLPClassifier\n",
    "from sklearn.model_selection import train_test_split"
   ]
  },
  {
   "source": [
    "1. Load pancreatic cell labels from `data/Pancreatic_Labels.csv` into a list or vector called `all_labels`, and print this vector. Load the single-cell RNA-seq data from `data/subset_combined_humanpancreas_data.csv` into a pandas data frame called `scRNAseq_data`, making sure to specify that the index column is column 0. Print the head of this data frame. The classes in `all_labels` correspond to rows in `scRNAseq_data`."
   ],
   "cell_type": "markdown",
   "metadata": {}
  },
  {
   "source": [
    "2. Isolate indices in `all_labels` corresponding either \"alpha\" or \"beta\" pancreatic cell labels. Isolate values in `all_labels` corresponding to these indices, and store this new label vector as `labels_ab`. Likewise, isolate rows in `scRNAseq_data` corresponding to these indices, and store these rows in a data frame called `scRNAseq_ab`. Print the **length** of `labels_ab` and the **shape** of `scRNAseq_ab`."
   ],
   "cell_type": "markdown",
   "metadata": {}
  },
  {
   "source": [
    "3. We will train classifiers to predict \"alpha\" or \"beta\" pancreatic cell types from scRNA-seq data. Our covariates are the mRNA counts in `scRNAseq_ab` and our labels are the \"alpha\" and \"beta\" classes in `labels_ab`. Create an 80%/20% train/test split of this data. Print the number of samples in the training set."
   ],
   "cell_type": "markdown",
   "metadata": {}
  },
  {
   "source": [
    "4. Using the training set, train a logistic regression classifier to predict pancreatic cell labels. Then, evaluate the classifier performance by reporting its accuracy at predicting cell classes in the test set."
   ],
   "cell_type": "markdown",
   "metadata": {}
  },
  {
   "source": [
    "5. Repeat problem 4 for an SVM classifier. You may select a kernel of your choice, but please explicitly specify the kernel when initializing your classifier."
   ],
   "cell_type": "markdown",
   "metadata": {}
  },
  {
   "source": [
    "6. Repeat problem 4 for an MLP classifier. You may select an activation function of your choice, but please explicitly specify the activation function when initializing your classifier. You may change the hidden layer architecture from its default settings if you would like, but you do not have to."
   ],
   "cell_type": "markdown",
   "metadata": {}
  },
  {
   "source": [
    "7. How did the performance of the three classifiers compare to one-another? "
   ],
   "cell_type": "markdown",
   "metadata": {}
  }
 ]
}