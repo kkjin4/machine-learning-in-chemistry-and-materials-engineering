{
 "cells": [
  {
   "cell_type": "markdown",
   "metadata": {},
   "source": [
    "Homework 5\n",
    "==========\n",
    "\n",
    "In this homework...\n",
    "\n",
    "- Use multivariate linear regression to predict molecular band gap energy from other molecular properties\n",
    "- Analyze regression parameters with bootstrapping\n",
    "- Assess goodness of fit of linear models\n"
   ]
  },
  {
   "cell_type": "markdown",
   "metadata": {},
   "source": [
    "Problem statement\n",
    "-----------------------\n",
    "1. Data has been loaded in for you where independent variables are molecular volume, number of atoms, formation energy, and molecular stability. You will be predicting the band gap energy. Not all materials have band gaps. Remove all data points which have a value of 0 for the band gap energy. How many data points does that leave?\n",
    "\n",
    "\n",
    "2. Standardize the remaining data. For every variable (independent and dependent), subtract the mean and divide the variance from every data point. Plot band gap energy vs. one of the independent variables of your choice.\n",
    "\n",
    "\n",
    "3. Create a multi-variate linear regression model to predict the band gap energy from the other variables (molecular volume, number of atoms, formation energy, and molecular stability). Plot band gap energy vs. the same independent variable you plotted in question 2. Add a line of best fit for your selected covariate. Report the $R^2$ value of the regression model.\n",
    "\n",
    "\n",
    "4. Perform bootstrapping on the multivariate regression problem and find histograms of the regression parameters (i.e., coefficients). If you use the bootstrapping function from discussion, you will need to edit it.\n",
    "Bootstrapping requirements:\n",
    "    - The number of bootstrapping samples per trial you use should be equal to the number of data points.\n",
    "    - Use as many bootstrapping trials as you think are necessary.\n",
    "    - Plot each histogram of regression parameters, on the same plot.\n",
    "    - Plot the histograms by density (i.e., set `density=True` in the arguments of `plt.hist()`)\n",
    "\n",
    "\n",
    "5. Clearly report the mean and variance of each histogram computed in part 4. Round each value to 4 decimal places.\n",
    "\n",
    "\n",
    "6. Report the independent variable whose coefficient has the highest variance based on the bootstrapping histograms. Create a new multi-variate linear regression model to predict the band gap energy from the other variables $\\textit{excluding}$ this high-variance variable. Recreate each plot from part 3 with the 3 remaining independent variables. Report the $R^2$ value of the regression model. What is the difference between this $R^2$ value and that in part 3? What does this suggest about the variable you removed?"
   ]
  },
  {
   "cell_type": "markdown",
   "metadata": {},
   "source": [
    "Import the necessary modules"
   ]
  },
  {
   "cell_type": "code",
   "execution_count": 1,
   "metadata": {},
   "outputs": [],
   "source": [
    "import numpy as np\n",
    "import sys\n",
    "import matplotlib.pyplot as plt\n",
    "import json\n",
    "import pandas as pd\n",
    "from sklearn import linear_model\n",
    "from sklearn.metrics import mean_squared_error,r2_score\n",
    "import random\n",
    "from sklearn.utils import resample\n",
    "import scipy.stats as st"
   ]
  },
  {
   "cell_type": "markdown",
   "metadata": {},
   "source": [
    "Load data from the Open Quantum Materials Database: http://oqmd.org\n",
    "\n",
    "Citations:\n",
    "   - http://dx.doi.org/10.1007/s11837-013-0755-4\n",
    "   - http://dx.doi.org/10.1038/npjcompumats.2015.10\n",
    "\n",
    "Regression is done on all OQMD molecules containing both tungsten and nitrogen - about 250 molecules"
   ]
  },
  {
   "cell_type": "code",
   "execution_count": 19,
   "metadata": {},
   "outputs": [],
   "source": [
    "# load data\n",
    "data_list = []\n",
    "for i in range(1,6):\n",
    "    filename = 'data/W/formationenergy'+str(i)+'.json'\n",
    "    with open(filename) as json_file:\n",
    "        jfile = json.load(json_file)\n",
    "        data_list = data_list + (jfile['data'])\n",
    "df = pd.DataFrame(data_list)\n",
    "\n",
    "# choose independent variables\n",
    "indep_vars = ['volume','natoms','stability','delta_e']\n",
    "\n",
    "# choose dependent variable\n",
    "dep_var = 'band_gap'\n",
    "\n",
    "# remove examples with missing values\n",
    "xs = df[indep_vars].to_numpy()\n",
    "xs = np.delete(xs,0,0)\n",
    "ys = df[dep_var].to_numpy()\n",
    "ys = np.delete(ys,0,0).reshape(-1,1)\n",
    "all_data = np.concatenate((xs,ys),axis=1)\n",
    "all_data  = all_data[~np.isnan(all_data).any(axis=1),:]\n",
    "xs = all_data[:,:len(indep_vars)]\n",
    "ys = all_data[:,-1]\n",
    "\n",
    "font = {'family' : 'serif',\n",
    "        'weight':'normal',\n",
    "        'size': 18}"
   ]
  },
  {
   "cell_type": "markdown",
   "metadata": {},
   "source": [
    "1. Data has been loaded in for you where independent variables are molecular volume, number of atoms, formation energy, and molecular stability. You will be predicting the band gap energy. Not all materials have band gaps. Remove all data points which have a value of 0 for the band gap energy. How many data points does that leave?"
   ]
  },
  {
   "cell_type": "markdown",
   "metadata": {},
   "source": [
    "2. Standardize the remaining data. For every variable (independent and dependent), subtract the mean and divide the variance from every data point. Plot band gap energy vs. one of the independent variables of your choice."
   ]
  },
  {
   "cell_type": "markdown",
   "metadata": {},
   "source": [
    "3. Create a multi-variate linear regression model to predict the band gap energy from the other variables (molecular volume, number of atoms, formation energy, and molecular stability). Plot band gap energy vs. the same independent variable you plotted in question 2. Add a line of best fit for your selected covariate. Report the $R^2$ value of the regression model."
   ]
  },
  {
   "cell_type": "markdown",
   "metadata": {},
   "source": [
    "4. Perform bootstrapping on the multivariate regression problem and find histograms of the regression parameters (i.e., coefficients). If you use the bootstrapping function from discussion, you will need to edit it.\n",
    "Bootstrapping requirements:\n",
    "    - The number of bootstrapping samples per trial you use should be equal to the number of data points.\n",
    "    - Use as many bootstrapping trials as you think are necessary.\n",
    "    - Plot each histogram of regression parameters, on the same plot.\n",
    "    - Plot the histograms by density (i.e., set `density=True` in the arguments of `plt.hist()`)"
   ]
  },
  {
   "cell_type": "markdown",
   "metadata": {},
   "source": [
    "5. Clearly report the mean and variance of each histogram computed in part 4. Round each value to 4 decimal places."
   ]
  },
  {
   "cell_type": "markdown",
   "metadata": {},
   "source": [
    "6. Report the independent variable whose coefficient has the highest variance based on the bootstrapping histograms. Create a new multi-variate linear regression model to predict the band gap energy from the other variables $\\textit{excluding}$ this high-variance variable. Recreate each plot from part 3 with the 3 remaining independent variables. Report the $R^2$ value of the regression model. What is the difference between this $R^2$ value and that in part 3? What does this suggest about the variable you removed?"
   ]
  },
  {
   "cell_type": "markdown",
   "metadata": {},
   "source": []
  }
 ],
 "metadata": {
  "kernelspec": {
   "display_name": "Python 3",
   "language": "python",
   "name": "python3"
  },
  "language_info": {
   "codemirror_mode": {
    "name": "ipython",
    "version": 3
   },
   "file_extension": ".py",
   "mimetype": "text/x-python",
   "name": "python",
   "nbconvert_exporter": "python",
   "pygments_lexer": "ipython3",
   "version": "3.8.3"
  }
 },
 "nbformat": 4,
 "nbformat_minor": 4
}
